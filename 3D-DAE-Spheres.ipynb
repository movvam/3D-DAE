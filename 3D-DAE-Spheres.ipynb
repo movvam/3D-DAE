{
 "cells": [
  {
   "cell_type": "code",
   "execution_count": 1,
   "metadata": {
    "scrolled": true
   },
   "outputs": [],
   "source": [
    "# Import Statements\n",
    "#from utils import *\n",
    "import torch\n",
    "import torch.nn as nn\n",
    "import torch.utils.data as Data\n",
    "from torch.utils.data import Dataset\n",
    "from matplotlib.pyplot import cm\n",
    "\n",
    "import torchvision\n",
    "import matplotlib.pyplot as plt\n",
    "import numpy as np\n",
    "import h5py\n",
    "\n",
    "from vizz import visualize3D\n",
    "#from utils import Logger\n",
    "from toySphere import sphere\n",
    "import random\n",
    "import math\n",
    "\n",
    "torch.set_default_tensor_type('torch.DoubleTensor')\n"
   ]
  },
  {
   "cell_type": "code",
   "execution_count": 2,
   "metadata": {},
   "outputs": [],
   "source": [
    "# Custom dataloader for 3D spheres dataset \n",
    "class ToySpheres(Dataset):\n",
    "\n",
    "    def __init__(self, shape, seed, transform=None):\n",
    "        random.seed(seed)\n",
    "        self.data_dir = []\n",
    "        self.dataShape = shape\n",
    "        print('Creating training data...')\n",
    "        for _ in range(shape[0]):\n",
    "            s_r = random.uniform(1.1, 6.0)\n",
    "            s_x = random.randint(-shape[2]//2 + math.ceil(s_r), shape[2]//2 - math.ceil(s_r))\n",
    "            s_y = random.randint(-shape[3]//2 + math.ceil(s_r), shape[3]//2 - math.ceil(s_r))\n",
    "            s_z = random.randint(-shape[4]//2 + math.ceil(s_r), shape[4]//2 - math.ceil(s_r))\n",
    "            self.data_dir.append((s_x, s_y, s_z, s_r))\n",
    "        print('Complete!')\n",
    "        self.transform = transform\n",
    "\n",
    "    def __len__(self):\n",
    "        return len(self.data_dir)\n",
    "\n",
    "    def __getitem__(self, idx):\n",
    "        params = self.data_dir[idx]\n",
    "        model = np.expand_dims(sphere(self.dataShape[2], self.dataShape[3], self.dataShape[4],\n",
    "                                      params[0],\n",
    "                                      params[1],\n",
    "                                      params[2],\n",
    "                                      params[3]), axis=0)\n",
    "        if self.transform:\n",
    "            model = self.transform(model)\n",
    "        return torch.from_numpy(model)\n",
    "    \n",
    "\n",
    "#for one-hot encoding\n",
    "def to_categorical(y, num_classes=None, dtype='float32'):\n",
    "    \"\"\"Converts a class vector (integers) to binary class matrix.\n",
    "    E.g. for use with categorical_crossentropy.\n",
    "    # Arguments\n",
    "        y: class vector to be converted into a matrix\n",
    "            (integers from 0 to num_classes).\n",
    "        num_classes: total number of classes.\n",
    "        dtype: The data type expected by the input, as a string\n",
    "            (`float32`, `float64`, `int32`...)\n",
    "    # Returns\n",
    "        A binary matrix representation of the input. The classes axis\n",
    "        is placed last.\n",
    "    # Example\n",
    "    ```python\n",
    "    # Consider an array of 5 labels out of a set of 3 classes {0, 1, 2}:\n",
    "    > labels\n",
    "    array([0, 2, 1, 2, 0])\n",
    "    # `to_categorical` converts this into a matrix with as many\n",
    "    # columns as there are classes. The number of rows\n",
    "    # stays the same.\n",
    "    > to_categorical(labels)\n",
    "    array([[ 1.,  0.,  0.],\n",
    "           [ 0.,  0.,  1.],\n",
    "           [ 0.,  1.,  0.],\n",
    "           [ 0.,  0.,  1.],\n",
    "           [ 1.,  0.,  0.]], dtype=float32)\n",
    "    ```\n",
    "    \"\"\"\n",
    "\n",
    "    y = np.array(y, dtype='int')\n",
    "    input_shape = y.shape\n",
    "    if input_shape and input_shape[-1] == 1 and len(input_shape) > 1:\n",
    "        input_shape = tuple(input_shape[:-1])\n",
    "    y = y.ravel()\n",
    "    if not num_classes:\n",
    "        num_classes = np.max(y) + 1\n",
    "    n = y.shape[0]\n",
    "    categorical = np.zeros((n, num_classes), dtype=dtype)\n",
    "    categorical[np.arange(n), y] = 1\n",
    "    output_shape = input_shape + (num_classes,)\n",
    "    categorical = np.reshape(categorical, output_shape)\n",
    "    return categorical"
   ]
  },
  {
   "cell_type": "code",
   "execution_count": 3,
   "metadata": {},
   "outputs": [],
   "source": [
    "# torch.manual_seed(1)    # reproducible\n",
    "\n",
    "# Hyper Parameters\n",
    "EPOCH = 10\n",
    "BATCH_SIZE = 128\n",
    "EMBEDDING_SIZE = (2, 2, 2)\n",
    "NOISE_VAL = 0.2\n",
    "LR = 0.001         # learning rate"
   ]
  },
  {
   "cell_type": "code",
   "execution_count": 4,
   "metadata": {},
   "outputs": [
    {
     "name": "stdout",
     "output_type": "stream",
     "text": [
      "Creating training data...\n",
      "Complete!\n"
     ]
    },
    {
     "data": {
      "image/png": "[encoded data removed]",
      "text/plain": [
       "<Figure size 432x288 with 1 Axes>"
      ]
     },
     "metadata": {
      "needs_background": "light"
     },
     "output_type": "display_data"
    },
    {
     "data": {
      "image/png": "[encoded data removed]",
      "text/plain": [
       "<Figure size 432x288 with 1 Axes>"
      ]
     },
     "metadata": {
      "needs_background": "light"
     },
     "output_type": "display_data"
    }
   ],
   "source": [
    "dataset = ToySpheres((6000, 1, 16, 16, 16), 1)\n",
    "\n",
    "# Create loader with data, so that we can iterate over it\n",
    "train_loader = torch.utils.data.DataLoader(dataset, batch_size=100, shuffle=True)\n",
    "# Num batches\n",
    "num_batches = len(train_loader)\n",
    "\n",
    "for index in range(2):\n",
    "    test_sphere = np.squeeze(dataset[index].detach().numpy())\n",
    "    visualize3D(test_sphere, title=\"sample\" + str(index), thresh=0.1)\n",
    "    plt.show()\n"
   ]
  },
  {
   "cell_type": "code",
   "execution_count": 5,
   "metadata": {},
   "outputs": [],
   "source": [
    "#Define AutoEncoder class\n",
    "\n",
    "class AutoEncoder(nn.Module):\n",
    "    def __init__(self):\n",
    "        super(AutoEncoder, self).__init__()\n",
    "        \n",
    "        self.encoder = nn.Sequential(\n",
    "            nn.Conv3d(in_channels = 1, out_channels = 64, kernel_size = 5, stride = 1, padding=1),\n",
    "            nn.LeakyReLU(0.2),\n",
    "            nn.Dropout(0.3),\n",
    "            # now 14x14x14\n",
    "            nn.Conv3d(in_channels = 64, out_channels = 32, kernel_size = 3, stride = 1),\n",
    "            nn.LeakyReLU(0.2),\n",
    "            nn.Dropout(0.3),\n",
    "            # 12x12x12\n",
    "            nn.MaxPool3d(2, stride=2),\n",
    "            # 6x6x6\n",
    "             nn.Conv3d(in_channels = 32, out_channels = 16, kernel_size = 3, stride = 1),\n",
    "            nn.LeakyReLU(0.2),\n",
    "            nn.Dropout(0.3),\n",
    "            # 4x4x4\n",
    "            nn.Conv3d(in_channels = 16, out_channels = 1, kernel_size = 3, stride = 1),\n",
    "            nn.LeakyReLU(0.2),\n",
    "            nn.Dropout(0.3),\n",
    "            # 2x2x2\n",
    "        )\n",
    "        self.decoder = nn.Sequential(\n",
    "#             nn.Conv3d(in_channels = 32, out_channels = 64, kernel_size = 3, stride = 1, padding = 1),\n",
    "#             nn.LeakyReLU(0.2),\n",
    "#             nn.Upsample(scale_factor=2, mode='nearest'),\n",
    "#             nn.Conv3d(in_channels = 64, out_channels = 32, kernel_size = 3, stride = 1, padding = 1),\n",
    "#             nn.LeakyReLU(0.2),\n",
    "            nn.Conv3d(in_channels = 1, out_channels = 16, kernel_size = 3, stride = 1, padding = 1),\n",
    "            nn.LeakyReLU(0.2),\n",
    "            nn.Upsample(scale_factor=2, mode='nearest'),\n",
    "            nn.Conv3d(in_channels = 16, out_channels = 8, kernel_size = 3, stride = 1, padding = 1),\n",
    "            nn.LeakyReLU(0.2),\n",
    "            nn.Upsample(scale_factor=2, mode='nearest'),\n",
    "            nn.Conv3d(in_channels = 8, out_channels = 1, kernel_size = 3, stride = 1, padding = 1),\n",
    "            nn.Upsample(scale_factor=2, mode='nearest'),\n",
    "            nn.Tanh(),\n",
    "            #nn.Upsample(scale_factor=2, mode='nearest'),\n",
    "            #nn.Tanh(),\n",
    "            \n",
    "            \n",
    "#             nn.Upsample(scale_factor=2, mode='nearest'),\n",
    "#             nn.Conv3d(in_channels = 32, out_channels = 16, kernel_size = 3, stride = 1, padding = 1),\n",
    "#             nn.LeakyReLU(0.2),\n",
    "#             nn.Upsample(scale_factor=2, mode='nearest'),\n",
    "#             nn.Conv3d(in_channels = 16, out_channels = 8, kernel_size = 3, stride = 1, padding = 1),\n",
    "#             nn.LeakyReLU(0.2),\n",
    "#             nn.Upsample(scale_factor=2, mode='nearest'),\n",
    "#             nn.Conv3d(in_channels = 8, out_channels = 1, kernel_size = 3, stride = 1, padding = 1),\n",
    "#             nn.LeakyReLU(0.2),\n",
    "#             nn.Tanh()\n",
    "            \n",
    "#             nn.ConvTranspose3d(32, 64, 3, stride=2),\n",
    "#             nn.ReLU(True),\n",
    "#             nn.ConvTranspose3d(64, 32, 3, stride=2),\n",
    "#             nn.ReLU(True),\n",
    "#             nn.ConvTranspose3d(32, 4, 3, stride=1),\n",
    "#             nn.ReLU(True),\n",
    "#             nn.ConvTranspose3d(4, 1, 4, stride=1),\n",
    "#             nn.ReLU(True),\n",
    "#             nn.Tanh()\n",
    "        )\n",
    "        \n",
    "    def forward(self, val):\n",
    "        encoded = self.encoder(val)\n",
    "        decoded = self.decoder(encoded)\n",
    "        return encoded, decoded\n",
    "        \n",
    "    def encode(self, val):\n",
    "        val = self.encoder(val)\n",
    "        return val.cpu().data\n",
    "\n",
    "    def decode(self, val):\n",
    "        val = self.decoder(val)\n",
    "        return val.cpu().data"
   ]
  },
  {
   "cell_type": "code",
   "execution_count": 6,
   "metadata": {},
   "outputs": [],
   "source": [
    "autoencoder = AutoEncoder()\n",
    "\n",
    "optimizer = torch.optim.Adam(autoencoder.parameters(), lr=LR)\n",
    "loss_func = nn.MSELoss()"
   ]
  },
  {
   "cell_type": "code",
   "execution_count": 8,
   "metadata": {},
   "outputs": [
    {
     "ename": "IndexError",
     "evalue": "list index out of range",
     "output_type": "error",
     "traceback": [
      "\u001b[0;31m---------------------------------------------------------------------------\u001b[0m",
      "\u001b[0;31mIndexError\u001b[0m                                Traceback (most recent call last)",
      "\u001b[0;32m<ipython-input-8-752f0fadc675>\u001b[0m in \u001b[0;36m<module>\u001b[0;34m\u001b[0m\n\u001b[0;32m----> 1\u001b[0;31m \u001b[0msample_data\u001b[0m \u001b[0;34m=\u001b[0m \u001b[0mdataset\u001b[0m\u001b[0;34m[\u001b[0m\u001b[0;34m:\u001b[0m\u001b[0;36m3\u001b[0m\u001b[0;34m]\u001b[0m\u001b[0;34m\u001b[0m\u001b[0m\n\u001b[0m",
      "\u001b[0;32m<ipython-input-2-3fb17f9ca341>\u001b[0m in \u001b[0;36m__getitem__\u001b[0;34m(self, idx)\u001b[0m\n\u001b[1;32m     25\u001b[0m                                       \u001b[0mparams\u001b[0m\u001b[0;34m[\u001b[0m\u001b[0;36m1\u001b[0m\u001b[0;34m]\u001b[0m\u001b[0;34m,\u001b[0m\u001b[0;34m\u001b[0m\u001b[0m\n\u001b[1;32m     26\u001b[0m                                       \u001b[0mparams\u001b[0m\u001b[0;34m[\u001b[0m\u001b[0;36m2\u001b[0m\u001b[0;34m]\u001b[0m\u001b[0;34m,\u001b[0m\u001b[0;34m\u001b[0m\u001b[0m\n\u001b[0;32m---> 27\u001b[0;31m                                       params[3]), axis=0)\n\u001b[0m\u001b[1;32m     28\u001b[0m         \u001b[0;32mif\u001b[0m \u001b[0mself\u001b[0m\u001b[0;34m.\u001b[0m\u001b[0mtransform\u001b[0m\u001b[0;34m:\u001b[0m\u001b[0;34m\u001b[0m\u001b[0m\n\u001b[1;32m     29\u001b[0m             \u001b[0mmodel\u001b[0m \u001b[0;34m=\u001b[0m \u001b[0mself\u001b[0m\u001b[0;34m.\u001b[0m\u001b[0mtransform\u001b[0m\u001b[0;34m(\u001b[0m\u001b[0mmodel\u001b[0m\u001b[0;34m)\u001b[0m\u001b[0;34m\u001b[0m\u001b[0m\n",
      "\u001b[0;31mIndexError\u001b[0m: list index out of range"
     ]
    }
   ],
   "source": [
    "sample_data = dataset[:3]"
   ]
  },
  {
   "cell_type": "code",
   "execution_count": null,
   "metadata": {},
   "outputs": [],
   "source": [
    "for epoch in range(EPOCH):\n",
    "    for step, (x) in enumerate(train_loader):\n",
    "        \n",
    "        # batch x, shape (batch, 28, 28)\n",
    "        b_x = x + NOISE_VAL * torch.rand_like(x) / (1.0 + NOISE_VAL) # Renormalize with added noise\n",
    "        encoded, decoded = autoencoder(b_x)\n",
    "        \n",
    "        \n",
    "        loss = loss_func(decoded, x)        # mean square error\n",
    "        optimizer.zero_grad()               # clear gradients for this training step\n",
    "        loss.backward()                     # backpropagation, compute gradients\n",
    "        optimizer.step()                    # apply gradients\n",
    "\n",
    "        if step % 100 == 0:\n",
    "            print('Epoch: ', epoch, '| train loss: %.4f' % loss.data.numpy())\n",
    "#            for n in range(3):\n",
    "#                 test_data = sample_data.detach()[n]\n",
    "#                 _, decoded = autoencoder(test_data)\n",
    "#                 true_sphere = np.squeeze(test_data.numpy())\n",
    "#                 visualize3D(true_sphere, title=\"true_e\" + str(epoch) + \"_s\" + str(step), percentile=0.85)\n",
    "#                 plt.show()\n",
    "#                 visualize3D(decoded, title=\"decoded_e\" + str(epoch) + \"_s\" + str(step), percentile=0.85)\n",
    "#                 plt.show()"
   ]
  },
  {
   "cell_type": "code",
   "execution_count": null,
   "metadata": {},
   "outputs": [],
   "source": []
  }
 ],
 "metadata": {
  "kernelspec": {
   "display_name": "Python 3",
   "language": "python",
   "name": "python3"
  },
  "language_info": {
   "codemirror_mode": {
    "name": "ipython",
    "version": 3
   },
   "file_extension": ".py",
   "mimetype": "text/x-python",
   "name": "python",
   "nbconvert_exporter": "python",
   "pygments_lexer": "ipython3",
   "version": "3.5.2"
  }
 },
 "nbformat": 4,
 "nbformat_minor": 2
}
